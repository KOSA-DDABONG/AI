{
 "cells": [
  {
   "cell_type": "markdown",
   "metadata": {},
   "source": [
    "# Final Project 8/12\n",
    " - langgraph 기초 구현을 위한 코드입니다.\n"
   ]
  },
  {
   "cell_type": "markdown",
   "metadata": {},
   "source": [
    "## Import Packages"
   ]
  },
  {
   "cell_type": "code",
   "execution_count": 1,
   "metadata": {},
   "outputs": [],
   "source": [
    "from typing import TypedDict, Annotated, Dict, Optional\n",
    "import operator\n",
    "import json\n",
    "import ast\n",
    "import pandas as pd\n",
    "\n",
    "from langchain_core.prompts import ChatPromptTemplate, MessagesPlaceholder\n",
    "from langchain_openai import ChatOpenAI\n",
    "from langchain.schema.runnable import RunnablePassthrough, RunnableMap\n",
    "from langchain.memory import ConversationSummaryBufferMemory\n",
    "from IPython.display import Image, display\n",
    "from langgraph.graph import END, StateGraph\n",
    "from langgraph.checkpoint.memory import MemorySaver\n",
    "import pprint\n",
    "from langgraph.errors import GraphRecursionError\n",
    "from langchain_core.runnables import RunnableConfig"
   ]
  },
  {
   "cell_type": "markdown",
   "metadata": {},
   "source": [
    "## Define State"
   ]
  },
  {
   "cell_type": "code",
   "execution_count": 2,
   "metadata": {},
   "outputs": [],
   "source": [
    "# 딕셔너리 병합 함수\n",
    "def merge_dicts(dict1, dict2):\n",
    "    merged = dict1.copy()  # dict1을 복사하여 새로운 딕셔너리를 생성\n",
    "    merged.update(dict2)   # dict2의 키와 값을 병합\n",
    "    return merged"
   ]
  },
  {
   "cell_type": "code",
   "execution_count": 3,
   "metadata": {},
   "outputs": [],
   "source": [
    "# 첫 질문에 대한 클래스\n",
    "class LangState(TypedDict):\n",
    "    model: Optional[ChatOpenAI]\n",
    "    question: Annotated[str, operator.add]  # 사용자의 입력질문\n",
    "    keywords: Annotated[Dict[str, str], merge_dicts]#operator.add]  # 입력질문으로 뽑아낸 키워드\n",
    "    hotel_context: Annotated[Dict[str, str], merge_dicts]#operator.add]  # 뽑힌 여행지들\n",
    "    scheduler: Annotated[Dict[str, str], merge_dicts]  # 최종 여행지\n",
    "    sql_query: Annotated[str, operator.add]  # 키워드를 기반으로 db 조회하는 쿼리\n",
    "    second_sentence: Annotated[str, operator.add]  # 검증\n"
   ]
  },
  {
   "cell_type": "markdown",
   "metadata": {},
   "source": [
    "## Define Functions"
   ]
  },
  {
   "cell_type": "code",
   "execution_count": 4,
   "metadata": {},
   "outputs": [],
   "source": [
    "# 실제로는 sql을 조회하게 될 함수\n",
    "def get_db():\n",
    "    food = pd.read_csv(\"./busan_data/spot_busan.csv\")\n",
    "    food = food['업체명']\n",
    "    return food"
   ]
  },
  {
   "cell_type": "markdown",
   "metadata": {},
   "source": [
    "## Define Nodes"
   ]
  },
  {
   "cell_type": "code",
   "execution_count": 5,
   "metadata": {},
   "outputs": [],
   "source": [
    "def make_keyword(state: LangState) -> LangState:\n",
    "    prompt = ChatPromptTemplate.from_messages([\n",
    "        (\"system\", \"\"\"\n",
    "        Your task is to classify the sentence as follows: \n",
    "        ====\n",
    "        def classify(sentence: str) -> ['days(Integer)', 'type(str)']:     \n",
    "            # Classify the sentence as how much days human want to go trip, how many people go trip, and what kind of trip human want from Args.\n",
    "            # If you can't classify then each values can replace [3, 3, 'vacation']\n",
    "            Args:       sentence(str): The sentence that is classified.     \n",
    "            Return:    ['days(Integer)', 'type(str)']: The classification of sentence.     \n",
    "        ====\n",
    "        # Get result     \n",
    "        result = classify_sentence(sentence)    \n",
    "        return result\n",
    "        ====\n",
    "        #Response format\n",
    "        classify(\"{question}\")\n",
    "        \"\"\"),\n",
    "        (\"human\", \"{question}\")\n",
    "    ])\n",
    "    chain = prompt | state['model']\n",
    "    result = chain.invoke({\"question\": state['question']})\n",
    "    response = result.content\n",
    "\n",
    "    return LangState(keywords=response)\n",
    "\n",
    "def db_search(state: LangState) -> LangState:\n",
    "    prompt = ChatPromptTemplate.from_messages([\n",
    "        (\"system\", \"\"\"\n",
    "        Your task is to search the places as follows:\n",
    "         ====\n",
    "         def search(places: csv or MariaDB, user_input: list) -> ['attractions': places(str)(numbers = days * 2 * 3), 'restaurants': places(str)(numbers = days * 3 * 3), 'hotels': places(str)(numbers = days * 3)]:\n",
    "            # Search the places from database for days * 2 * k attractions, days * 3 * k restaurants, days * 1 * k hotels following the type.\n",
    "            # Based on the type, if the type is related to attractions, search attractions first and then find the rest of the places(attractions, hotels, restaurants) within a 5km radius considering latitude and longitude until the requested number is reached.\n",
    "            # If the type is related to restaurants or hotels, then please search for the related thing first like upper sentence.\n",
    "            # If the type is None or Thing that you can't understand, then just consider attractions and search the places.\n",
    "            Args:       places(csv file) and user_input(list): the places from database, and user_input is from state['keyword']\n",
    "            Return: ['attractions': places(str)(numbers = days * 2 * 3), 'restaurants': places(str)(numbers = days * 3 * 3), 'hotels': places(str)(numbers = days * 3)]: The Search Result\n",
    "        ====\n",
    "         # Get result\n",
    "         result = search_places({db}, {user})\n",
    "         return result\n",
    "         ====\n",
    "         #Response format\n",
    "         search(\"{db},{user}\")\n",
    "         answer = {    }\n",
    "        \"\"\"),\n",
    "        (\"human\", \"{user}\")\n",
    "    ])\n",
    "    chain = RunnablePassthrough.assign(db=get_db) | prompt | state['model']\n",
    "    result = chain.invoke({\"user\": state['keywords']})\n",
    "    response = result.content\n",
    "    # 추가구현필요\n",
    "    response = None\n",
    "    return LangState(context=response)\n",
    "\n",
    "def make_schedule(state: LangState) -> LangState:\n",
    "    prompt = ChatPromptTemplate.from_messages([\n",
    "        (\"system\", \"\"\"\n",
    "        Your task is to generate a travel itinerary based on the provided data and requirements.\n",
    "        ====\n",
    "        def generate_itinerary(data: dict, days: int) -> dict:\n",
    "            Generates a travel itinerary for 'n' days using the provided data. The itinerary should be returned in JSON format and follow these guidelines:\n",
    "            \n",
    "            - Each day's itinerary includes breakfast, lunch, and dinner (breakfast and lunch must be at restaurants, dinner can be at a restaurant or bar).\n",
    "            - Each day includes visits to 2 different tourist spots.\n",
    "            - A different hotel is assigned each night, with a maximum of 3 consecutive nights at the same hotel.\n",
    "            - The itinerary starts with a day at Busan Station (not included as a tourist spot) and ends with the last day at Busan Station (without a hotel).\n",
    "            - The itinerary should be slightly different each time it is generated, with random selections of restaurants, tourist spots, and hotels.\n",
    "            - The JSON should use the day number as the key and the itinerary for that day as the value.\n",
    "            - The last day should not include a hotel.\n",
    "            \n",
    "            Args:\n",
    "                data (dict): The data containing information on restaurants, tourist spots, and hotels.\n",
    "                days (int): The number of days for the itinerary.\n",
    "                \n",
    "            Returns:\n",
    "                dict: A JSON-formatted dictionary representing the travel itinerary.\n",
    "\n",
    "        # Example usage\n",
    "        itinerary = generate_itinerary(data, days)\n",
    "        return itinerary\n",
    "\n",
    "        ====\n",
    "        #Response format\n",
    "        generate_itinerary({data}, {days})\n",
    "        answer = {...}\n",
    "        ====\n",
    "        \"\"\")\n",
    "    ])\n",
    "    result = None\n",
    "    return LangState(scheduler=result)\n",
    "\n",
    "def validation(state: LangState) -> LangState:\n",
    "    second_input = None\n",
    "    return LangState(second_sentence=second_input)"
   ]
  },
  {
   "cell_type": "code",
   "execution_count": 6,
   "metadata": {},
   "outputs": [],
   "source": [
    "def is_do_again(state: LangState) -> LangState:\n",
    "    # 끝났는지 검사\n",
    "    sent = LangState['second_sentence']\n",
    "    if  sent == 'pass':\n",
    "        return 'no'\n",
    "    elif sent == 'go_first':\n",
    "        return 'reset'\n",
    "    elif sent == 'search_again':\n",
    "        return 'again'\n",
    "    elif sent == 'make_other':\n",
    "        return 'other'\n",
    "    return 'no'"
   ]
  },
  {
   "cell_type": "code",
   "execution_count": 7,
   "metadata": {},
   "outputs": [],
   "source": [
    "# get StateGraph & END from langgraph.graph\n",
    "workflow = StateGraph(LangState)\n",
    "\n",
    "# Add Nodes\n",
    "workflow.add_node('keywording', make_keyword)\n",
    "workflow.add_node('searching', db_search)\n",
    "workflow.add_node('scheduling', make_schedule)\n",
    "workflow.add_node('validating', validation)\n",
    "\n",
    "# Link Nodes\n",
    "workflow.add_edge('keywording', 'searching')\n",
    "workflow.add_edge('searching', 'scheduling')\n",
    "workflow.add_edge('scheduling', 'validating')\n",
    "\n",
    "# Add Conditional Edges\n",
    "workflow.add_conditional_edges(\n",
    "    \"validating\",\n",
    "    is_do_again,\n",
    "    {\n",
    "        'no' : END,\n",
    "        'reset': 'keywording',\n",
    "        'again': 'searching',\n",
    "        'other': 'scheduling'\n",
    "    },\n",
    ")\n",
    "\n",
    "# Set Start Point\n",
    "workflow.set_entry_point(\"keywording\")\n",
    "\n",
    "# Set Memory for Log\n",
    "memory = MemorySaver()\n",
    "\n",
    "# Compile Graph\n",
    "app = workflow.compile(checkpointer=memory)"
   ]
  },
  {
   "cell_type": "markdown",
   "metadata": {},
   "source": [
    "### Config 선언"
   ]
  },
  {
   "cell_type": "code",
   "execution_count": 8,
   "metadata": {},
   "outputs": [],
   "source": [
    "config = RunnableConfig(\n",
    "    recursion_limit=12, configurable={\"thread_id\": \"CORRECTIVE-SEARCH-RAG\"}\n",
    ")"
   ]
  },
  {
   "cell_type": "markdown",
   "metadata": {},
   "source": [
    "## Graph View"
   ]
  },
  {
   "cell_type": "code",
   "execution_count": 9,
   "metadata": {},
   "outputs": [
    {
     "data": {
      "image/jpeg": "[encoded data removed]",
      "text/plain": [
       "<IPython.core.display.Image object>"
      ]
     },
     "metadata": {},
     "output_type": "display_data"
    }
   ],
   "source": [
    "try:\n",
    "    display(\n",
    "        Image(app.get_graph(xray = True).draw_mermaid_png())\n",
    "    ) # 실행 가능한 객체 그래프를 mermaid 형식의 PNG로 그려줌\n",
    "    # xray = True -> 추가 세부 정보 포함\n",
    "except:\n",
    "    # 이 부분은 추가적인 의존성 필요, 선택적 실행\n",
    "    pass"
   ]
  },
  {
   "cell_type": "markdown",
   "metadata": {},
   "source": [
    "# Main"
   ]
  },
  {
   "cell_type": "markdown",
   "metadata": {},
   "source": [
    "### LLM Model API KEY & MODEL"
   ]
  },
  {
   "cell_type": "code",
   "execution_count": 11,
   "metadata": {},
   "outputs": [],
   "source": [
    "api_key = 'sk-_QhnbyR5USlFg_jiqyDQPFv1PSsYsZhnh_CC6aRqsMT3BlbkFJ60XrmvdXqfLPC00eWX0iQU1tI4qgfLtm3ENrKMVCsA'\n",
    "# model = ChatOpenAI(api_key=api_key, temperature=0.1, model=\"gpt-3.5-turbo\")\n",
    "model = ChatOpenAI(api_key=api_key, temperature=0.1, model=\"gpt-4o-mini\")"
   ]
  },
  {
   "cell_type": "markdown",
   "metadata": {},
   "source": [
    "### Define Running Function"
   ]
  },
  {
   "cell_type": "code",
   "execution_count": 12,
   "metadata": {},
   "outputs": [],
   "source": [
    "def running(input, LangState, model):\n",
    "    inputs = LangState(question=input, model=model)\n",
    "    # app.stream을 통해 입력된 메시지에 대한 출력을 스트리밍합니다.\n",
    "    try:\n",
    "        for output in app.stream(inputs, config=config):\n",
    "            # 출력된 결과에서 키와 값을 순회합니다.\n",
    "            for key, value in output.items():\n",
    "                # 노드의 이름과 해당 노드에서 나온 출력을 출력합니다.\n",
    "                pprint.pprint(f\"Output from node '{key}':\")\n",
    "                pprint.pprint(\"---\")\n",
    "                # 출력 값을 예쁘게 출력합니다.\n",
    "                pprint.pprint(value, indent=2, width=80, depth=None)\n",
    "            # 각 출력 사이에 구분선을 추가합니다.\n",
    "            pprint.pprint(\"\\n---\\n\")\n",
    "    except GraphRecursionError as e:\n",
    "        pprint.pprint(f\"Recursion limit reached: {e}\")"
   ]
  },
  {
   "cell_type": "markdown",
   "metadata": {},
   "source": [
    "### Test"
   ]
  },
  {
   "cell_type": "code",
   "execution_count": 14,
   "metadata": {},
   "outputs": [],
   "source": [
    "lg = LangState\n",
    "m = model"
   ]
  },
  {
   "cell_type": "code",
   "execution_count": 15,
   "metadata": {},
   "outputs": [],
   "source": [
    "#i = input(\"어떤 여행을 계획하시나요? \")\n",
    "i = \"안녕 나는 친구들이랑 부산 일주일 여행을 갈거야. 쉬러가고싶어\"\n",
    "# running(i, lg, m)"
   ]
  },
  {
   "cell_type": "markdown",
   "metadata": {},
   "source": [
    "# Experiment"
   ]
  },
  {
   "cell_type": "markdown",
   "metadata": {},
   "source": [
    "## Node 1. Keywords"
   ]
  },
  {
   "cell_type": "code",
   "execution_count": 16,
   "metadata": {},
   "outputs": [],
   "source": [
    "prompt = ChatPromptTemplate.from_messages([\n",
    "        (\"system\", \"\"\"\n",
    "        Your task is to classify the sentence as follows: \n",
    "        ====\n",
    "        def classify(sentence: str) -> ['days(Integer)', 'type(str)']:     \n",
    "            # Classify the sentence as how much days human want to go trip, how many people go trip, and what kind of trip human want from Args.\n",
    "            # If you can't classify then each values can replace [3, 3, 'vacation']\n",
    "            Args:       sentence(str): The sentence that is classified.     \n",
    "            Return:    ['days(Integer)', 'type(str)']: The classification of sentence.     \n",
    "        ====\n",
    "        # Get result     \n",
    "        result = classify_sentence(sentence)    \n",
    "        return result\n",
    "        ====\n",
    "        #Response format\n",
    "        classify(\"{question}\")\n",
    "        \"\"\"),\n",
    "        (\"human\", \"{question}\")\n",
    "])\n",
    "chain = prompt | model\n",
    "result = chain.invoke({\"question\": i})\n",
    "response1 = result.content\n",
    "list_data = ast.literal_eval(response1)\n",
    "#json_data = json.dumps(list_data)\n",
    "response1 = list_data\n",
    "#response1 = json.load(response1)"
   ]
  },
  {
   "cell_type": "code",
   "execution_count": null,
   "metadata": {},
   "outputs": [],
   "source": [
    "int(list_data[0])"
   ]
  },
  {
   "cell_type": "code",
   "execution_count": 17,
   "metadata": {},
   "outputs": [
    {
     "data": {
      "text/plain": [
       "['7', 'vacation']"
      ]
     },
     "execution_count": 17,
     "metadata": {},
     "output_type": "execute_result"
    }
   ],
   "source": [
    "response1"
   ]
  },
  {
   "cell_type": "markdown",
   "metadata": {},
   "source": [
    "## Node 2. Search_DB"
   ]
  },
  {
   "cell_type": "code",
   "execution_count": 19,
   "metadata": {},
   "outputs": [],
   "source": [
    "db = get_db().to_json(orient=\"records\")  # DataFrame을 JSON 문자열로 변환\n",
    "#db = get_db().to_json\n",
    "prompt = ChatPromptTemplate.from_messages([\n",
    "        (\"system\", \"\"\"\n",
    "        Your task is to search the places as follows:\n",
    "         ====\n",
    "         def search(places: csv or MariaDB, user_input: list) -> dict['attractions': places(str)(numbers = days * 2 * 3), 'restaurants': places(str)(numbers = days * 3 * 3), 'hotels': places(str)(numbers = days * 3)]:\n",
    "            # Search the places from database for days * 2 * k attractions, days * 3 * k restaurants, days * 1 * k hotels following the type.\n",
    "            # Based on the type, if the type is related to attractions, search attractions first and then find the rest of the places(attractions, hotels, restaurants) within a 5km radius considering latitude and longitude until the requested number is reached.\n",
    "            # If the type is related to restaurants or hotels, then please search for the related thing first like upper sentence.\n",
    "            # If the type is None or Thing that you can't understand, then just consider attractions and search the places.\n",
    "            # You only return dict type result, and places name is written by korean.(maybe you just use db original.)\n",
    "            Args:       places(csv file) and user_input(list): the places from database, and user_input is from state['keyword']\n",
    "            Return: dict['attractions': places(str)(numbers = days * 2 * 3), 'restaurants': places(str)(numbers = days * 3 * 3), 'hotels': places(str)(numbers = days * 3)]: The Search Result\n",
    "        ====\n",
    "         # Get result\n",
    "         result = search_places({db}, {user})\n",
    "         return result\n",
    "         ====\n",
    "         #Response format\n",
    "         search(\"{db},{user}\")\n",
    "        \"\"\"),\n",
    "        (\"human\", \"{db}, {user}\")\n",
    "    ])\n",
    "chain = prompt | model\n",
    "result = chain.invoke({\"db\": db, \"user\": response1})\n",
    "response2 = result.content"
   ]
  },
  {
   "cell_type": "code",
   "execution_count": null,
   "metadata": {},
   "outputs": [],
   "source": [
    "#db = get_db().to_json(orient=\"records\")  # DataFrame을 JSON 문자열로 변환\n",
    "#db = get_db().to_json\n",
    "prompt = ChatPromptTemplate.from_messages([\n",
    "        (\"system\", \"\"\"\n",
    "        Your task is to search the places as follows:\n",
    "         ====\n",
    "         def search(places: csv or MariaDB, user_input: list) -> list['attractions': places(str)(numbers = days * 2 * 3)]:\n",
    "            # Search the places from database for days * 2 * k attractions following the type and not translate.\n",
    "            # Based on the type, if the type is related to attractions, search attractions first and then find the rest of the places(attractions, hotels, restaurants) within a 5km radius considering latitude and longitude until the requested number is reached.\n",
    "            # If the type is related to restaurants or hotels, then please search for the related thing first like upper sentence.\n",
    "            # If the type is None or Thing that you can't understand, then just consider attractions and search the places.\n",
    "            # You only return dict type result, and places name is written by korean.(maybe you just use db original.)\n",
    "            Args:       places(csv file) and user_input(list): the places from database, and user_input is from state['keyword']\n",
    "            Return: list['attractions': places(str)(numbers = days * 2 * 3)]: The Search Result\n",
    "        ====\n",
    "         # Get result\n",
    "         result = search_places({db}, {user})\n",
    "         return result\n",
    "         ====\n",
    "         #Response format\n",
    "         search(\"{db},{user}\")\n",
    "        \"\"\"),\n",
    "        (\"human\", \"{db}, {user}\")\n",
    "    ])\n",
    "chain = prompt | model\n",
    "result = chain.invoke({\"db\": db, \"user\": response1})\n",
    "response2 = result.content"
   ]
  },
  {
   "cell_type": "code",
   "execution_count": 20,
   "metadata": {},
   "outputs": [
    {
     "data": {
      "text/plain": [
       "'```json\\n{\\n    \"attractions\": [\\n        \"보라비스프레차\",\\n        \"제일란시티\",\\n        \"강동에이스패트미트프레임\",\\n        \"강서해수욕\",\\n        \"강서해수욕장\",\\n        \"부천팝\",\\n        \"밤산수물안내\",\\n        \"시세티미리\",\\n        \"정거마를미화거리\",\\n        \"마탱시티\",\\n        \"노동강레시피\",\\n        \"강서노동센터\",\\n        \"모수현의가리\",\\n        \"강서목록\",\\n        \"모탱\",\\n        \"노동강스미쿼리\",\\n        \"강서보드게임\",\\n        \"강서보드게임\",\\n        \"강서보드게임\",\\n        \"CGN알리원리온\",\\n        \"부산스미치\",\\n        \"월페타마타\",\\n        \"에코네타\",\\n        \"도시의미\",\\n        \"도시의미\",\\n        \"도시의미\",\\n        \"도시의미\",\\n        \"도시의미\",\\n        \"도시의미\",\\n        \"도시의미\",\\n        \"도시의미\",\\n        \"도시의미\",\\n        \"도시의미\",\\n        \"도시의미\",\\n        \"도시의미\",\\n        \"도시의미\",\\n        \"도시의미\",\\n        \"도시의미\",\\n        \"도시의미\",\\n        \"도시의미\",\\n        \"도시의미\",\\n        \"도시의미\",\\n        \"도시의미\",\\n        \"도시의미\",\\n        \"도시의미\",\\n        \"도시의미\",\\n        \"도시의미\",\\n        \"도시의미\",\\n        \"도시의미\",\\n        \"도시의미\",\\n        \"도시의미\",\\n        \"도시의미\",\\n        \"도시의미\",\\n        \"도시의미\",\\n        \"도시의미\",\\n        \"도시의미\",\\n        \"도시의미\",\\n        \"도시의미\",\\n        \"도시의미\",\\n        \"도시의미\",\\n        \"도시의미\",\\n        \"도시의미\",\\n        \"도시의미\",\\n        \"도시의미\",\\n        \"도시의미\",\\n        \"도시의미\",\\n        \"도시의미\",\\n        \"도시의미\",\\n        \"도시의미\",\\n        \"도시의미\",\\n        \"도시의미\",\\n        \"도시의미\",\\n        \"도시의미\",\\n        \"도시의미\",\\n        \"도시의미\",\\n        \"도시의미\",\\n        \"도시의미\",\\n        \"도시의미\",\\n        \"도시의미\",\\n        \"도시의미\",\\n        \"도시의미\",\\n        \"도시의미\",\\n        \"도시의미\",\\n        \"도시의미\",\\n        \"도시의미\",\\n        \"도시의미\",\\n        \"도시의미\",\\n        \"도시의미\",\\n        \"도시의미\",\\n        \"도시의미\",\\n        \"도시의미\",\\n        \"도시의미\",\\n        \"도시의미\",\\n        \"도시의미\",\\n        \"도시의미\",\\n        \"도시의미\",\\n        \"도시의미\",\\n        \"도시의미\",\\n        \"도시의미\",\\n        \"도시의미\",\\n        \"도시의미\",\\n        \"도시의미\",\\n        \"도시의미\",\\n        \"도시의미\",\\n        \"도시의미\",\\n        \"도시의미\",\\n        \"도시의미\",\\n        \"도시의미\",\\n        \"도시의미\",\\n        \"도시의미\",\\n        \"도시의미\",\\n        \"도시의미\",\\n        \"도시의미\",\\n        \"도시의미\",\\n        \"도시의미\",\\n        \"도시의미\",\\n        \"도시의미\",\\n        \"도시의미\",\\n        \"도시의미\",\\n        \"도시의미\",\\n        \"도시의미\",\\n        \"도시의미\",\\n        \"도시의미\",\\n        \"도시의미\",\\n        \"도시의미\",\\n        \"도시의미\",\\n        \"도시의미\",\\n        \"도시의미\",\\n        \"도시의미\",\\n        \"도시의미\",\\n        \"도시의미\",\\n        \"도시의미\",\\n        \"도시의미\",\\n        \"도시의미\",\\n        \"도시의미\",\\n        \"도시의미\",\\n        \"도시의미\",\\n        \"도시의미\",\\n        \"도시의미\",\\n        \"도시의미\",\\n        \"도시의미\",\\n        \"도시의미\",\\n        \"도시의미\",\\n        \"도시의미\",\\n        \"도시의미\",\\n        \"도시의미\",\\n        \"도시의미\",\\n        \"도시의미\",\\n        \"도시의미\",\\n        \"도시의미\",\\n        \"도시의미\",\\n        \"도시의미\",\\n        \"도시의미\",\\n        \"도시의미\",\\n        \"도시의미\",\\n        \"도시의미\",\\n        \"도시의미\",\\n        \"도시의미\",\\n        \"도시의미\",\\n        \"도시의미\",\\n        \"도시의미\",\\n        \"도시의미\",\\n        \"도시의미\",\\n        \"도시의미\",\\n        \"도시의미\",\\n        \"도시의미\",\\n        \"도시의미\",\\n        \"도시의미\",\\n        \"도시의미\",\\n        \"도시의미\",\\n        \"도시의미\",\\n        \"도시의미\",\\n        \"도시의미\",\\n        \"도시의미\",\\n        \"도시의미\",\\n        \"도시의미\",\\n        \"도시의미\",\\n        \"도시의미\",\\n        \"도시의미\",\\n        \"도시의미\",\\n        \"도시의미\",\\n        \"도시의미\",\\n        \"도시의미\",\\n        \"도시의미\",\\n        \"도시의미\",\\n        \"도시의미\",\\n        \"도시의미\",\\n        \"도시의미\",\\n        \"도시의미\",\\n        \"도시의미\",\\n        \"도시의미\",\\n        \"도시의미\",\\n        \"도시의미\",\\n        \"도시의미\",\\n        \"도시의미\",\\n        \"도시의미\",\\n        \"도시의미\",\\n        \"도시의미\",\\n        \"도시의미\",\\n        \"도시의미\",\\n        \"도시의미\",\\n        \"도시의미\",\\n        \"도시의미\",\\n        \"도시의미\",\\n        \"도시의미\",\\n        \"도시의미\",\\n        \"도시의미\",\\n        \"도시의미\",\\n        \"도시의미\",\\n        \"도시의미\",\\n        \"도시의미\",\\n        \"도시의미\",\\n        \"도시의미\",\\n        \"도시의미\",\\n        \"도시의미\",\\n        \"도시의미\",\\n        \"도시의미\",\\n        \"도시의미\",\\n        \"도시의미\",\\n        \"도시의미\",\\n        \"도시의미\",\\n        \"도시의미\",\\n        \"도시의미\",\\n        \"도시의미\",\\n        \"도시의미\",\\n        \"도시의미\",\\n        \"도시의미\",\\n        \"도시의미\",\\n        \"도시의미\",\\n        \"도시의미\",\\n        \"도시의미\",\\n        \"도시의미\",\\n        \"도시의미\",\\n        \"도시의미\",\\n        \"도시의미\",\\n        \"도시의미\",\\n        \"도시의미\",\\n        \"도시의미\",\\n        \"도시의미\",\\n        \"도시의미\",\\n        \"도시의미\",\\n        \"도시의미\",\\n        \"도시의미\",\\n        \"도시의미\",\\n        \"도시의미\",\\n        \"도시의미\",\\n        \"도시의미\",\\n        \"도시의미\",\\n        \"도시의미\",\\n        \"도시의미\",\\n        \"도시의미\",\\n        \"도시의미\",\\n        \"도시의미\",\\n        \"도시의미\",\\n        \"도시의미\",\\n        \"도시의미\",\\n        \"도시의미\",\\n        \"도시의미\",\\n        \"도시의미\",\\n        \"도시의미\",\\n        \"도시의미\",\\n        \"도시의미\",\\n        \"도시의미\",\\n        \"도시의미\",\\n        \"도시의미\",\\n        \"도시의미\",\\n        \"도시의미\",\\n        \"도시의미\",\\n        \"도시의미\",\\n        \"도시의미\",\\n        \"도시의미\",\\n        \"도시의미\",\\n        \"도시의미\",\\n        \"도시의미\",\\n        \"도시의미\",\\n        \"도시의미\",\\n        \"도시의미\",\\n        \"도시의미\",\\n        \"도시의미\",\\n        \"도시의미\",\\n        \"도시의미\",\\n        \"도시의미\",\\n        \"도시의미\",\\n        \"도시의미\",\\n        \"도시의미\",\\n        \"도시의미\",\\n        \"도시의미\",\\n        \"도시의미\",\\n        \"도시의미\",\\n        \"도시의미\",\\n        \"도시의미\",\\n        \"도시의미\",\\n        \"도시의미\",\\n        \"도시의미\",\\n        \"도시의미\",\\n        \"도시의미\",\\n        \"도시의미\",\\n        \"도시의미\",\\n        \"도시의미\",\\n        \"도시의미\",\\n        \"도시의미\",\\n        \"도시의미\",\\n        \"도시의미\",\\n        \"도시의미\",\\n        \"도시의미\",\\n        \"도시의미\",\\n        \"도시의미\",\\n        \"도시의미\",\\n        \"도시의미\",\\n        \"도시의미\",\\n        \"도시의미\",\\n        \"도시의미\",\\n        \"도시의미\",\\n        \"도시의미\",\\n        \"도시의미\",\\n        \"도시의미\",\\n        \"도시의미\",\\n        \"도시의미\",\\n        \"도시의미\",\\n        \"도시의미\",\\n        \"도시의미\",\\n        \"도시의미\",\\n        \"도시의미\",\\n        \"도시의미\",\\n        \"도시의미\",\\n        \"도시의미\",\\n        \"도시의미\",\\n        \"도시의미\",\\n        \"도시의미\",\\n        \"도시의미\",\\n        \"도시의미\",\\n        \"도시의미\",\\n        \"도시의미\",\\n        \"도시의미\",\\n        \"도시의미\",\\n        \"도시의미\",\\n        \"도시의미\",\\n        \"도시의미\",\\n        \"도시의미\",\\n        \"도시의미\",\\n        \"도시의미\",\\n        \"도시의미\",\\n        \"도시의미\",\\n        \"도시의미\",\\n        \"도시의미\",\\n        \"도시의미\",\\n        \"도시의미\",\\n        \"도시의미\",\\n        \"도시의미\",\\n        \"도시의미\",\\n        \"도시의미\",\\n        \"도시의미\",\\n        \"도시의미\",\\n        \"도시의미\",\\n        \"도시의미\",\\n        \"도시의미\",\\n        \"도시의미\",\\n        \"도시의미\",\\n        \"도시의미\",\\n        \"도시의미\",\\n        \"도시의미\",\\n        \"도시의미\",\\n        \"도시의미\",\\n        \"도시의미\",\\n        \"도시의미\",\\n        \"도시의미\",\\n        \"도시의미\",\\n        \"도시의미\",\\n        \"도시의미\",\\n        \"도시의미\",\\n        \"도시의미\",\\n        \"도시의미\",\\n        \"도시의미\",\\n        \"도시의미\",\\n        \"도시의미\",\\n        \"도시의미\",\\n        \"도시의미\",\\n        \"도시의미\",\\n        \"도시의미\",\\n        \"도시의미\",\\n        \"도시의미\",\\n        \"도시의미\",\\n        \"도시의미\",\\n        \"도시의미\",\\n        \"도시의미\",\\n        \"도시의미\",\\n        \"도시의미\",\\n        \"도시의미\",\\n        \"도시의미\",\\n        \"도시의미\",\\n        \"도시의미\",\\n        \"도시의미\",\\n        \"도시의미\",\\n        \"도시의미\",\\n        \"도시의미\",\\n        \"도시의미\",\\n        \"도시의미\",\\n        \"도시의미\",\\n        \"도시의미\",\\n        \"도시의미\",\\n        \"도시의미\",\\n        \"도시의미\",\\n        \"도시의미\",\\n        \"도시의미\",\\n        \"도시의미\",\\n        \"도시의미\",\\n        \"도시의미\",\\n        \"도시의미\",\\n        \"도시의미\",\\n        \"도시의미\",\\n        \"도시의미\",\\n        \"도시의미\",\\n        \"도시의미\",\\n        \"도시의미\",\\n        \"도시의미\",\\n        \"도시의미\",\\n        \"도시의미\",\\n        \"도시의미\",\\n        \"도시의미\",\\n        \"도시의미\",\\n        \"도시의미\",\\n        \"도시의미\",\\n        \"도시의미\",\\n        \"도시의미\",\\n        \"도시의미\",\\n        \"도시의미\",\\n        \"도시의미\",\\n        \"도시의미\",\\n        \"도시의미\",\\n        \"도시의미\",\\n        \"도시의미\",\\n        \"도시의미\",\\n        \"도시의미\",\\n        \"도시의미\",\\n        \"도시의미\",\\n        \"도시의미\",\\n        \"도시의미\",\\n        \"도시의미\",\\n        \"도시의미\",\\n        \"도시의미\",\\n        \"도시의미\",\\n        \"도시의미\",\\n        \"도시의미\",\\n        \"도시의미\",\\n        \"도시의미\",\\n        \"도시의미\",\\n        \"도시의미\",\\n        \"도시의미\",\\n        \"도시의미\",\\n        \"도시의미\",\\n        \"도시의미\",\\n        \"도시의미\",\\n        \"도시의미\",\\n        \"도시의미\",\\n        \"도시의미\",\\n        \"도시의미\",\\n        \"도시의미\",\\n        \"도시의미\",\\n        \"도시의미\",\\n        \"도시의미\",\\n        \"도시의미\",\\n        \"도시의미\",\\n        \"도시의미\",\\n        \"도시의미\",\\n        \"도시의미\",\\n        \"도시의미\",\\n        \"도시의미\",\\n        \"도시의미\",\\n        \"도시의미\",\\n        \"도시의미\",\\n        \"도시의미\",\\n        \"도시의미\",\\n        \"도시의미\",\\n        \"도시의미\",\\n        \"도시의미\",\\n        \"도시의미\",\\n        \"도시의미\",\\n        \"도시의미\",\\n        \"도시의미\",\\n        \"도시의미\",\\n        \"도시의미\",\\n        \"도시의미\",\\n        \"도시의미\",\\n        \"도시의미\",\\n        \"도시의미\",\\n        \"도시의미\",\\n        \"도시의미\",\\n        \"도시의미\",\\n        \"도시의미\",\\n        \"도시의미\",\\n        \"도시의미\",\\n        \"도시의미\",\\n        \"도시의미\",\\n        \"도시의미\",\\n        \"도시의미\",\\n        \"도시의미\",\\n        \"도시의미\",\\n        \"도시의미\",\\n        \"도시의미\",\\n        \"도시의미\",\\n        \"도시의미\",\\n        \"도시의미\",\\n        \"도시의미\",\\n        \"도시의미\",\\n        \"도시의미\",\\n        \"도시의미\",\\n        \"도시의미\",\\n        \"도시의미\",\\n        \"도시의미\",\\n        \"도시의미\",\\n        \"도시의미\",\\n        \"도시의미\",\\n        \"도시의미\",\\n        \"도시의미\",\\n        \"도시의미\",\\n        \"도시의미\",\\n        \"도시의미\",\\n        \"도시의미\",\\n        \"도시의미\",\\n        \"도시의미\",\\n        \"도시의미\",\\n        \"도시의미\",\\n        \"도시의미\",\\n        \"도시의미\",\\n        \"도시의미\",\\n        \"도시의미\",\\n        \"도시의미\",\\n        \"도시의미\",\\n        \"도시의미\",\\n        \"도시의미\",\\n        \"도시의미\",\\n        \"도시의미\",\\n        \"도시의미\",\\n        \"도시의미\",\\n        \"도시의미\",\\n        \"도시의미\",\\n        \"도시의미\",\\n        \"도시의미\",\\n        \"도시의미\",\\n        \"도시의미\",\\n        \"도시의미\",\\n        \"도시의미\",\\n        \"도시의미\",\\n        \"도시의미\",\\n        \"도시의미\",\\n        \"도시의미\",\\n        \"도시의미\",\\n        \"도시의미\",\\n        \"도시의미\",\\n        \"도시의미\",\\n        \"도시의미\",\\n        \"도시의미\",\\n        \"도시의미\",\\n        \"도시의미\",\\n        \"도시의미\",\\n        \"도시의미\",\\n        \"도시의미\",\\n        \"도시의미\",\\n        \"도시의미\",\\n        \"도시의미\",\\n        \"도시의미\",\\n        \"도시의미\",\\n        \"도시의미\",\\n        \"도시의미\",\\n        \"도시의미\",\\n        \"도시의미\",\\n        \"도시의미\",\\n        \"도시의미\",\\n        \"도시의미\",\\n        \"도시의미\",\\n        \"도시의미\",\\n        \"도시의미\",\\n        \"도시의미\",\\n        \"도시의미\",\\n        \"도시의미\",\\n        \"도시의미\",\\n        \"도시의미\",\\n        \"도시의미\",\\n        \"도시의미\",\\n        \"도시의미\",\\n        \"도시의미\",\\n        \"도시의미\",\\n        \"도시의미\",\\n        \"도시의미\",\\n        \"도시의미\",\\n        \"도시의미\",\\n        \"도시의미\",\\n        \"도시의미\",\\n        \"도시의미\",\\n        \"도시의미\",\\n        \"도시의미\",\\n        \"도시의미\",\\n        \"도시의미\",\\n        \"도시의미\",\\n        \"도시의미\",\\n        \"도시의미\",\\n        \"도시의미\",\\n        \"도시의미\",\\n        \"도시의미\",\\n        \"도시의미\",\\n        \"도시의미\",\\n        \"도시의미\",\\n        \"도시의미\",\\n        \"도시의미\",\\n        \"도시의미\",\\n        \"도시의미\",\\n        \"도시의미\",\\n        \"도시의미\",\\n        \"도시의미\",\\n        \"도시의미\",\\n        \"도시의미\",\\n        \"도시의미\",\\n        \"도시의미\",\\n        \"도시의미\",\\n        \"도시의미\",\\n        \"도시의미\",\\n        \"도시의미\",\\n        \"도시의미\",\\n        \"도시의미\",\\n        \"도시의미\",\\n        \"도시의미\",\\n        \"도시의미\",\\n        \"도시의미\",\\n        \"도시의미\",\\n        \"도시의미\",\\n        \"도시의미\",\\n        \"도시의미\",\\n        \"도시의미\",\\n        \"도시의미\",\\n        \"도시의미\",\\n        \"도시의미\",\\n        \"도시의미\",\\n        \"도시의미\",\\n        \"도시의미\",\\n        \"도시의미\",\\n        \"도시의미\",\\n        \"도시의미\",\\n        \"도시의미\",\\n        \"도시의미\",\\n        \"도시의미\",\\n        \"도시의미\",\\n        \"도시의미\",\\n        \"도시의미\",\\n        \"도시의미\",\\n        \"도시의미\",\\n        \"도시의미\",\\n        \"도시의미\",\\n        \"도시의미\",\\n        \"도시의미\",\\n        \"도시의미\",\\n        \"도시의미\",\\n        \"도시의미\",\\n        \"도시의미\",\\n        \"도시의미\",\\n        \"도시의미\",\\n        \"도시의미\",\\n        \"도시의미\",\\n        \"도시의미\",\\n        \"도시의미\",\\n        \"도시의미\",\\n        \"도시의미\",\\n        \"도시의미\",\\n        \"도시의미\",\\n        \"도시의미\",\\n        \"도시의미\",\\n        \"도시의미\",\\n        \"도시의미\",\\n        \"도시의미\",\\n        \"도시의미\",\\n        \"도시의미\",\\n        \"도시의미\",\\n        \"도시의미\",\\n        \"도시의미\",\\n        \"도시의미\",\\n        \"도시의미\",\\n        \"도시의미\",\\n        \"도시의미\",\\n        \"도시의미\",\\n        \"도시의미\",\\n        \"도시의미\",\\n        \"도시의미\",\\n        \"도시의미\",\\n        \"도시의미\",\\n        \"도시의미\",\\n        \"도시의미\",\\n        \"도시의미\",\\n        \"도시의미\",\\n        \"도시의미\",\\n        \"도시의미\",\\n        \"도시의미\",\\n        \"도시의미\",\\n        \"도시의미\",\\n        \"도시의미\",\\n        \"도시의미\",\\n        \"도시의미\",\\n        \"도시의미\",\\n        \"도시의미\",\\n        \"도시의미\",\\n        \"도시의미\",\\n        \"도시의미\",\\n        \"도시의미\",\\n        \"도시의미\",\\n        \"도시의미\",\\n        \"도시의미\",\\n        \"도시의미\",\\n        \"도시의미\",\\n        \"도시의미\",\\n        \"도시의미\",\\n        \"도시의미\",\\n        \"도시의미\",\\n        \"도시의미\",\\n        \"도시의미\",\\n        \"도시의미\",\\n        \"도시의미\",\\n        \"도시의미\",\\n        \"도시의미\",\\n        \"도시의미\",\\n        \"도시의미\",\\n        \"도시의미\",\\n        \"도시의미\",\\n        \"도시의미\",\\n        \"도시의미\",\\n        \"도시의미\",\\n        \"도시의미\",\\n        \"도시의미\",\\n        \"도시의미\",\\n        \"도시의미\",\\n        \"도시의미\",\\n        \"도시의미\",\\n        \"도시의미\",\\n        \"도시의미\",\\n        \"도시의미\",\\n        \"도시의미\",\\n        \"도시의미\",\\n        \"도시의미\",\\n        \"도시의미\",\\n        \"도시의미\",\\n        \"도시의미\",\\n        \"도시의미\",\\n        \"도시의미\",\\n        \"도시의미\",\\n        \"도시의미\",\\n        \"도시의미\",\\n        \"도시의미\",\\n        \"도시의미\",\\n        \"도시의미\",\\n        \"도시의미\",\\n        \"도시의미\",\\n        \"도시의미\",\\n        \"도시의미\",\\n        \"도시의미\",\\n        \"도시의미\",\\n        \"도시의미\",\\n        \"도시의미\",\\n        \"도시의미\",\\n        \"도시의미\",\\n        \"도시의미\",\\n        \"도시의미\",\\n        \"도시의미\",\\n        \"도시의미\",\\n        \"도시의미\",\\n        \"도시의미\",\\n        \"도시의미\",\\n        \"도시의미\",\\n        \"도시의미\",\\n        \"도시의미\",\\n        \"도시의미\",\\n        \"도시의미\",\\n        \"도시의미\",\\n        \"도시의미\",\\n        \"도시의미\",\\n        \"도시의미\",\\n        \"도시의미\",\\n        \"도시의미\",\\n        \"도시의미\",\\n        \"도시의미\",\\n        \"도시의미\",\\n        \"도시의미\",\\n        \"도시의미\",\\n        \"도시의미\",\\n        \"도시의미\",\\n        \"도시의미\",\\n        \"도시의미\",\\n        \"도시의미\",\\n        \"도시의미\",\\n        \"도시의미\",\\n        \"도시의미\",\\n        \"도시의미\",\\n        \"도시의미\",\\n        \"도시의미\",\\n        \"도시의미\",\\n        \"도시의미\",\\n        \"도시의미\",\\n        \"도시의미\",\\n        \"도시의미\",\\n        \"도시의미\",\\n        \"도시의미\",\\n        \"도시의미\",\\n        \"도시의미\",\\n        \"도시의미\",\\n        \"도시의미\",\\n        \"도시의미\",\\n        \"도시의미\",\\n        \"도시의미\",\\n        \"도시의미\",\\n        \"도시의미\",\\n        \"도시의미\",\\n        \"도시의미\",\\n        \"도시의미\",\\n        \"도시의미\",\\n        \"도시의미\",\\n        \"도시의미\",\\n        \"도시의미\",\\n        \"도시의미\",\\n        \"도시의미\",\\n        \"도시의미\",\\n        \"도시의미\",\\n        \"도시의미\",\\n        \"도시의미\",\\n        \"도시의미\",\\n        \"도시의미\",\\n        \"도시의미\",\\n        \"도시의미\",\\n        \"도시의미\",\\n        \"도시의미\",\\n        \"도시의미\",\\n        \"도시의미\",\\n        \"도시의미\",\\n        \"도시의미\",\\n        \"도시의미\",\\n        \"도시의미\",\\n        \"도시의미\",\\n        \"도시의미\",\\n        \"도시의미\",\\n        \"도시의미\",\\n        \"도시의미\",\\n        \"도시의미\",\\n        \"도시의미\",\\n        \"도시의미\",\\n        \"도시의미\",\\n        \"도시의미\",\\n        \"도시의미\",\\n        \"도시의미\",\\n        \"도시의미\",\\n        \"도시의미\",\\n        \"도시의미\",\\n        \"도시의미\",\\n        \"도시의미\",\\n        \"도시의미\",\\n        \"도시의미\",\\n        \"도시의미\",\\n        \"도시의미\",\\n        \"도시의미\",\\n        \"도시의미\",\\n        \"도시의미\",\\n        \"도시의미\",\\n        \"도시의미\",\\n        \"도시의미\",\\n        \"도시의미\",\\n        \"도시의미\",\\n        \"도시의미\",\\n        \"도시의미\",\\n        \"도시의미\",\\n        \"도시의미\",\\n        \"도시의미\",\\n        \"도시의미\",\\n        \"도시의미\",\\n        \"도시의미\",\\n        \"도시의미\",\\n        \"도시의미\",\\n        \"도시의미\",\\n        \"도시의미\",\\n        \"도시의미\",\\n        \"도시의미\",\\n        \"도시의미\",\\n        \"도시의미\",\\n        \"도시의미\",\\n        \"도시의미\",\\n        \"도시의미\",\\n        \"도시의미\",\\n        \"도시의미\",\\n        \"도시의미\",\\n        \"도시의미\",\\n        \"도시의미\",\\n        \"도시의미\",\\n        \"도시의미\",\\n        \"도시의미\",\\n        \"도시의미\",\\n        \"도시의미\",\\n        \"도시의미\",\\n        \"도시의미\",\\n        \"도시의미\",\\n        \"도시의미\",\\n        \"도시의미\",\\n        \"도시의미\",\\n        \"도시의미\",\\n        \"도시의미\",\\n        \"도시의미\",\\n        \"도시의미\",\\n        \"도시의미\",\\n        \"도시의미\",\\n        \"도시의미\",\\n        \"도시의미\",\\n        \"도시의미\",\\n        \"도시의미\",\\n        \"도시의미\",\\n        \"도시의미\",\\n        \"도시의미\",\\n        \"도시의미\",\\n        \"도시의미\",\\n        \"도시의미\",\\n        \"도시의미\",\\n        \"도시의미\",\\n        \"도시의미\",\\n        \"도시의미\",\\n        \"도시의미\",\\n        \"도시의미\",\\n        \"도시의미\",\\n        \"도시의미\",\\n        \"도시의미\",\\n        \"도시의미\",\\n        \"도시의미\",\\n        \"도시의미\",\\n        \"도시의미\",\\n        \"도시의미\",\\n        \"도시의미\",\\n        \"도시의미\",\\n        \"도시의미\",\\n        \"도시의미\",\\n        \"도시의미\",\\n        \"도시의미\",\\n        \"도시의미\",\\n        \"도시의미\",\\n        \"도시의미\",\\n        \"도시의미\",\\n        \"도시의미\",\\n        \"도시의미\",\\n        \"도시의미\",\\n        \"도시의미\",\\n        \"도시의미\",\\n        \"도시의미\",\\n        \"도시의미\",\\n        \"도시의미\",\\n        \"도시의미\",\\n        \"도시의미\",\\n        \"도시의미\",\\n        \"도시의미\",\\n        \"도시의미\",\\n        \"도시의미\",\\n        \"도시의미\",\\n        \"도시의미\",\\n        \"도시의미\",\\n        \"도시의미\",\\n        \"도시의미\",\\n        \"도시의미\",\\n        \"도시의미\",\\n        \"도시의미\",\\n        \"도시의미\",\\n        \"도시의미\",\\n        \"도시의미\",\\n        \"도시의미\",\\n        \"도시의미\",\\n        \"도시의미\",\\n        \"도시의미\",\\n        \"도시의미\",\\n        \"도시의미\",\\n        \"도시의미\",\\n        \"도시의미\",\\n        \"도시의미\",\\n        \"도시의미\",\\n        \"도시의미\",\\n        \"도시의미\",\\n        \"도시의미\",\\n        \"도시의미\",\\n        \"도시의미\",\\n        \"도시의미\",\\n        \"도시의미\",\\n        \"도시의미\",\\n        \"도시의미\",\\n        \"도시의미\",\\n        \"도시의미\",\\n        \"도시의미\",\\n        \"도시의미\",\\n        \"도시의미\",\\n        \"도시의미\",\\n        \"도시의미\",\\n        \"도시의미\",\\n        \"도시의미\",\\n        \"도시의미\",\\n        \"도시의미\",\\n        \"도시의미\",\\n        \"도시의미\",\\n        \"도시의미\",\\n        \"도시의미\",\\n        \"도시의미\",\\n        \"도시의미\",\\n        \"도시의미\",\\n        \"도시의미\",\\n        \"도시의미\",\\n        \"도시의미\",\\n        \"도시의미\",\\n        \"도시의미\",\\n        \"도시의미\",\\n        \"도시의미\",\\n        \"도시의미\",\\n        \"도시의미\",\\n        \"도시의미\",\\n        \"도시의미\",\\n        \"도시의미\",\\n        \"도시의미\",\\n        \"도시의미\",\\n        \"도시의미\",\\n        \"도시의미\",\\n        \"도시의미\",\\n        \"도시의미\",\\n        \"도시의미\",\\n        \"도시의미\",\\n        \"도시의미\",\\n        \"도시의미\",\\n        \"도시의미\",\\n        \"도시의미\",\\n        \"도시의미\",\\n        \"도시의미\",\\n        \"도시의미\",\\n        \"도시의미\",\\n        \"도시의미\",\\n        \"도시의미\",\\n        \"도시의미\",\\n        \"도시의미\",\\n        \"도시의미\",\\n        \"도시의미\",\\n        \"도시의미\",\\n        \"도시의미\",\\n        \"도시의미\",\\n        \"도시의미\",\\n        \"도시의미\",\\n        \"도시의미\",\\n        \"도시의미\",\\n        \"도시의미\",\\n        \"도시의미\",\\n        \"도시의미\",\\n        \"도시의미\",\\n        \"도시의미\",\\n        \"도시의미\",\\n        \"도시의미\",\\n        \"도시의미\",\\n        \"도시의미\",\\n        \"도시의미\",\\n        \"도시의미\",\\n        \"도시의미\",\\n        \"도시의미\",\\n        \"도시의미\",\\n        \"도시의미\",\\n        \"도시의미\",\\n        \"도시의미\",\\n        \"도시의미\",\\n        \"도시의미\",\\n        \"도시의미\",\\n        \"도시의미\",\\n        \"도시의미\",\\n        \"도시의미\",\\n        \"도시의미\",\\n        \"도시의미\",\\n        \"도시의미\",\\n        \"도시의미\",\\n        \"도시의미\",\\n        \"도시의미\",\\n        \"도시의미\",\\n        \"도시의미\",\\n        \"도시의미\",\\n        \"도시의미\",\\n        \"도시의미\",\\n        \"도시의미\",\\n        \"도시의미\",\\n        \"도시의미\",\\n        \"도시의미\",\\n        \"도시의미\",\\n        \"도시의미\",\\n        \"도시의미\",\\n        \"도시의미\",\\n        \"도시의미\",\\n        \"도시의미\",\\n        \"도시의미\",\\n        \"도시의미\",\\n        \"도시의미\",\\n        \"도시의미\",\\n        \"도시의미\",\\n        \"도시의미\",\\n        \"도시의미\",\\n        \"도시의미\",\\n        \"도시의미\",\\n        \"도시의미\",\\n        \"도시의미\",\\n        \"도시의미\",\\n        \"도시의미\",\\n        \"도시의미\",\\n        \"도시의미\",\\n        \"도시의미\",\\n        \"도시의미\",\\n        \"도시의미\",\\n        \"도시의미\",\\n        \"도시의미\",\\n        \"도시의미\",\\n        \"도시의미\",\\n        \"도시의미\",\\n        \"도시의미\",\\n        \"도시의미\",\\n        \"도시의미\",\\n        \"도시의미\",\\n        \"도시의미\",\\n        \"도시의미\",\\n        \"도시의미\",\\n        \"도시의미\",\\n        \"도시의미\",\\n        \"도시의미\",\\n        \"도시의미\",\\n        \"도시의미\",\\n        \"도시의미\",\\n        \"도시의미\",\\n        \"도시의미\",\\n        \"도시의미\",\\n        \"도시의미\",\\n        \"도시의미\",\\n        \"도시의미\",\\n        \"도시의미\",\\n        \"도시의미\",\\n        \"도시의미\",\\n        \"도시의미\",\\n        \"도시의미\",\\n        \"도시의미\",\\n        \"도시의미\",\\n        \"도시의미\",\\n        \"도시의미\",\\n        \"도시의미\",\\n        \"도시의미\",\\n        \"도시의미\",\\n        \"도시의미\",\\n        \"도시의미\",\\n        \"도시의미\",\\n        \"도시의미\",\\n        \"도시의미\",\\n        \"도시의미\",\\n        \"도시의미\",\\n        \"도시의미\",\\n        \"도시의미\",\\n        \"도시의미\",\\n        \"도시의미\",\\n        \"도시의미\",\\n        \"도시의미\",\\n        \"도시의미\",\\n        \"도시의미\",\\n        \"도시의미\",\\n        \"도시의미\",\\n        \"도시의미\",\\n        \"도시의미\",\\n        \"도시의미\",\\n        \"도시의미\",\\n        \"도시의미\",\\n        \"도시의미\",\\n        \"도시의미\",\\n        \"도시의미\",\\n        \"도시의미\",\\n        \"도시의미\",\\n        \"도시의미\",\\n        \"도시의미\",\\n        \"도시의미\",\\n        \"도시의미\",\\n        \"도시의미\",\\n        \"도시의미\",\\n        \"도시의미\",\\n        \"도시의미\",\\n        \"도시의미\",\\n        \"도시의미\",\\n        \"도시의미\",\\n        \"도시의미\",\\n        \"도시의미\",\\n        \"도시의미\",\\n        \"도시의미\",\\n        \"도시의미\",\\n        \"도시의미\",\\n        \"도시의미\",\\n        \"도시의미\",\\n        \"도시의미\",\\n        \"도시의미\",\\n        \"도시의미\",\\n        \"도시의미\",\\n        \"도시의미\",\\n        \"도시의미\",\\n        \"도시의미\",\\n        \"도시의미\",\\n        \"도시의미\",\\n        \"도시의미\",\\n        \"도시의미\",\\n        \"도시의미\",\\n        \"도시의미\",\\n        \"도시의미\",\\n        \"도시의미\",\\n        \"도시의미\",\\n        \"도시의미\",\\n        \"도시의미\",\\n        \"도시의미\",\\n        \"도시의미\",\\n        \"도시의미\",\\n        \"도시의미\",\\n        \"도시의미\",\\n        \"도시의미\",\\n        \"도시의미\",\\n        \"도시의미\",\\n        \"도시의미\",\\n        \"도시의미\",\\n        \"도시의미\",\\n        \"도시의미\",\\n        \"도시의미\",\\n        \"도시의미\",\\n        \"도시의미\",\\n        \"도시의미\",\\n        \"도시의미\",\\n        \"도시의미\",\\n        \"도시의미\",\\n        \"도시의미\",\\n        \"도시의미\",\\n        \"도시의미\",\\n        \"도시의미\",\\n        \"도시의미\",\\n        \"도시의미\",\\n        \"도시의미\",\\n        \"도시의미\",\\n        \"도시의미\",\\n        \"도시의미\",\\n        \"도시의미\",\\n        \"도시의미\",\\n        \"도시의미\",\\n        \"도시의미\",\\n        \"도시의미\",\\n        \"도시의미\",\\n        \"도시의미\",\\n        \"도시의미\",\\n        \"도시의미\",\\n        \"도시의미\",\\n        \"도시의미\",\\n        \"도시의미\",\\n        \"도시의미\",\\n        \"도시의미\",\\n        \"도시의미\",\\n        \"도시의미\",\\n        \"도시의미\",\\n        \"도시의미\",\\n        \"도시의미\",\\n        \"도시의미\",\\n        \"도시의미\",\\n        \"도시의미\",\\n        \"도시의미\",\\n        \"도시의미\",\\n        \"도시의미\",\\n        \"도시의미\",\\n        \"도시의미\",\\n        \"도시의미\",\\n        \"도시의미\",\\n        \"도시의미\",\\n        \"도시의미\",\\n        \"도시의미\",\\n        \"도시의미\",\\n        \"도시의미\",\\n        \"도시의미\",\\n        \"도시의미\",\\n        \"도시의미\",\\n        \"도시의미\",\\n        \"도시의미\",\\n        \"도시의미\",\\n        \"도시의미\",\\n        \"도시의미\",\\n        \"도시의미\",\\n        \"도시의미\",\\n        \"도시의미\",\\n        \"도시의미\",\\n        \"도시의미\",\\n        \"도시의미\",\\n        \"도시의미\",\\n        \"도시의미\",\\n        \"도시의미\",\\n        \"도시의미\",\\n        \"도시의미\",\\n        \"도시의미\",\\n        \"도시의미\",\\n        \"도시의미\",\\n        \"도시의미\",\\n        \"도시의미\",\\n        \"도시의미\",\\n        \"도시의미\",\\n        \"도시의미\",\\n        \"도시의미\",\\n        \"도시의미\",\\n        \"도시의미\",\\n        \"도시의미\",\\n        \"도시의미\",\\n        \"도시의미\",\\n        \"도시의미\",\\n        \"도시의미\",\\n        \"도시의미\",\\n        \"도시의미\",\\n        \"도시의미\",\\n        \"도시의미\",\\n        \"도시의미\",\\n        \"도시의미\",\\n        \"도시의미\",\\n        \"도시의미\",\\n        \"도시의미\",\\n        \"도시의미\",\\n        \"도시의미\",\\n        \"도시의미\",\\n        \"도시의미\",\\n        \"도시의미\",\\n        \"도시의미\",\\n        \"도시의미\",\\n        \"도시의미\",\\n        \"도시의미\",\\n        \"도시의미\",\\n        \"도시의미\",\\n        \"도시의미\",\\n        \"도시의미\",\\n        \"도시의미\",\\n        \"도시의미\",\\n        \"도시의미\",\\n        \"도시의미\",\\n        \"도시의미\",\\n        \"도시의미\",\\n        \"도시의미\",\\n        \"도시의미\",\\n        \"도시의미\",\\n        \"도시의미\",\\n        \"도시의미\",\\n        \"도시의미\",\\n        \"도시의미\",\\n        \"도시의미\",\\n        \"도시의미\",\\n        \"도시의미\",\\n        \"도시의미\",\\n        \"도시의미\",\\n        \"도시의미\",\\n        \"도시의미\",\\n        \"도시의미\",\\n        \"도시의미\",\\n        \"도시의미\",\\n        \"도시의미\",\\n        \"도시의미\",\\n        \"도시의미\",\\n        \"도시의미\",\\n        \"도시의미\",\\n        \"도시의미\",\\n        \"도시의미\",\\n        \"도시의미\",\\n        \"도시의미\",\\n        \"도시의미\",\\n        \"도시의미\",\\n        \"도시의미\",\\n        \"도시의미\",\\n        \"도시의미\",\\n        \"도시의미\",\\n        \"도시의미\",\\n        \"도시의미\",\\n        \"도시의미\",\\n        \"도시의미\",\\n        \"도시의미\",\\n        \"도시의미\",\\n        \"도시의미\",\\n        \"도시의미\",\\n        \"도시의미\",\\n        \"도시의미\",\\n        \"도시의미\",\\n        \"도시의미\",\\n        \"도시의미\",\\n        \"도시의미\",\\n        \"도시의미\",\\n        \"도시의미\",\\n        \"도시의미\",\\n        \"도시의미\",\\n        \"도시의미\",\\n        \"도시의미\",\\n        \"도시의미\",\\n        \"도시의미\",\\n        \"도시의미\",\\n        \"도시의미\",\\n        \"도시의미\",\\n        \"도시의미\",\\n        \"도시의미\",\\n        \"도시의미\",\\n        \"도시의미\",\\n        \"도시의미\",\\n        \"도시의미\",\\n        \"도시의미\",\\n        \"도시의미\",\\n        \"도시의미\",\\n        \"도시의미\",\\n        \"도시의미\",\\n        \"도시의미\",\\n        \"도시의미\",\\n        \"도시의미\",\\n        \"도시의미\",\\n        \"도시의미\",\\n        \"도시의미\",\\n        \"도시의미\",\\n        \"도시의미\",\\n        \"도시의미\",\\n        \"도시의미\",\\n        \"도시의미\",\\n        \"도시의미\",\\n        \"도시의미\",\\n        \"도시의미\",\\n        \"도시의미\",\\n        \"도시의미\",\\n        \"도시의미\",\\n        \"도시의미\",\\n        \"도시의미\",\\n        \"도시의미\",\\n        \"도시의미\",\\n        \"도시의미\",\\n        \"도시의미\",\\n        \"도시의미\",\\n        \"도시의미\",\\n        \"도시의미\",\\n        \"도시의미\",\\n        \"도시의미\",\\n        \"도시의미\",\\n        \"도시의미\",\\n        \"도시의미\",\\n        \"도시의미\",\\n        \"도시의미\",\\n        \"도시의미\",\\n        \"도시의미\",\\n        \"도시의미\",\\n        \"도시의미\",\\n        \"도시의미\",\\n        \"도시의미\",\\n        \"도시의미\",\\n        \"도시의미\",\\n        \"도시의미\",\\n        \"도시의미\",\\n        \"도시의미\",\\n        \"도시의미\",\\n        \"도시의미\",\\n        \"도시의미\",\\n        \"도시의미\",\\n        \"도시의미\",\\n        \"도시의미\",\\n        \"도시의미\",\\n        \"도시의미\",\\n        \"도시의미\",\\n        \"도시의미\",\\n        \"도시의미\",\\n        \"도시의미\",\\n        \"도시의미\",\\n        \"도시의미\",\\n        \"도시의미\",\\n        \"도시의미\",\\n        \"도시의미\",\\n        \"도시의미\",\\n        \"도시의미\",\\n        \"도시의미\",\\n        \"도시의미\",\\n        \"도시의미\",\\n        \"도시의미\",\\n        \"도시의미\",\\n        \"도시의미\",\\n        \"도시의미\",\\n        \"도시의미\",\\n        \"도시의미\",\\n        \"도시의미\",\\n        \"도시의미\",\\n        \"도시의미\",\\n        \"도시의미\",\\n        \"도시의미\",\\n        \"도시의미\",\\n        \"도시의미\",\\n        \"도시의미\",\\n        \"도시의미\",\\n        \"도시의미\",\\n        \"도시의미\",\\n        \"도시의미\",\\n        \"도시의미\",\\n        \"도시의미\",\\n        \"도시의미\",\\n        \"도시의미\",\\n        \"도시의미\",\\n        \"도시의미\",\\n        \"도시의미\",\\n        \"도시의미\",\\n        \"도시의미\",\\n        \"도시의미\",\\n        \"도시의미\",\\n        \"도시의미\",\\n        \"도시의미\",\\n        \"도시의미\",\\n        \"도시의미\",\\n        \"도시의미\",\\n        \"도시의미\",\\n        \"도시의미\",\\n        \"도시의미\",\\n        \"도시의미\",\\n        \"도시의미\",\\n        \"도시의미\",\\n        \"도시의미\",\\n        \"도시의미\",\\n        \"도시의미\",\\n        \"도시의미\",\\n        \"도시의미\",\\n        \"도시의미\",\\n        \"도시의미\",\\n        \"도시의미\",\\n        \"도시의미\",\\n        \"도시의미\",\\n        \"도시의미\",\\n        \"도시의미\",\\n        \"도시의미\",\\n        \"도시의미\",\\n        \"도시의미\",\\n        \"도시의미\",\\n        \"도시의미\",\\n        \"도시의미\",\\n        \"도시의미\",\\n        \"도시의미\",\\n        \"도시의미\",\\n        \"도시의미\",\\n        \"도시의미\",\\n        \"도시의미\",\\n        \"도시의미\",\\n        \"도시의미\",\\n        \"도시의미\",\\n        \"도시의미\",\\n        \"도시의미\",\\n        \"도시의미\",\\n        \"도시의미\",\\n        \"도시의미\",\\n        \"도시의미\",\\n        \"도시의미\",\\n        \"도시의미\",\\n        \"도시의미\",\\n        \"도시의미\",\\n        \"도시의미\",\\n        \"도시의미\",\\n        \"도시의미\",\\n        \"도시의미\",\\n        \"도시의미\",\\n        \"도시의미\",\\n        \"도시의미\",\\n        \"도시의미\",\\n        \"도시의미\",\\n        \"도시의미\",\\n        \"도시의미\",\\n        \"도시의미\",\\n        \"도시의미\",\\n        \"도시의미\",\\n        \"도시의미\",\\n        \"도시의미\",\\n        \"도시의미\",\\n        \"도시의미\",\\n        \"도시의미\",\\n        \"도시의미\",\\n        \"도시의미\",\\n        \"도시의미\",\\n        \"도시의미\",\\n        \"도시의미\",\\n        \"도시의미\",\\n        \"도시의미\",\\n        \"도시의미\",\\n        \"도시의미\",\\n        \"도시의미\",\\n        \"도시의미\",\\n        \"도시의미\",\\n        \"도시의미\",\\n        \"도시의미\",\\n        \"도시의미\",\\n        \"도시의미\",\\n        \"도시의미\",\\n        \"도시의미\",\\n        \"도시의미\",\\n        \"도시의미\",\\n        \"도시의미\",\\n        \"도시의미\",\\n        \"도시의미\",\\n        \"도시의미\",\\n        \"도시의미\",\\n        \"도시의미\",\\n        \"도시의미\",\\n        \"도시의미\",\\n        \"도시의미\",\\n        \"도시의미\",\\n        \"도시의미\",\\n        \"도시의미\",\\n        \"도시의미\",\\n        \"도시의미\",\\n        \"도시의미\",\\n        \"도시의미\",\\n        \"도시의미\",\\n        \"도시의미\",\\n        \"도시의미\",\\n        \"도시의미\",\\n        \"도시의미\",\\n        \"도시의미\",\\n        \"도시의미\",\\n        \"도시의미\",\\n        \"도시의미\",\\n        \"도시의미\",\\n        \"도시의미\",\\n        \"도시의미\",\\n        \"도시의미\",\\n        \"도시의미\",\\n        \"도시의미\",\\n        \"도시의미\",\\n        \"도시의미\",\\n        \"도시의미\",\\n        \"도시의미\",\\n        \"도시의미\",\\n        \"도시의미\",\\n        \"도시의미\",\\n        \"도시의미\",\\n        \"도시의미\",\\n        \"도시의미\",\\n        \"도시의미\",\\n        \"도시의미\",\\n        \"도시의미\",\\n        \"도시의미\",\\n        \"도시의미\",\\n        \"도시의미\",\\n        \"도시의미\",\\n        \"도시의미\",\\n        \"도시의미\",\\n        \"도시의미\",\\n        \"도시의미\",\\n        \"도시의미\",\\n        \"도시의미\",\\n        \"도시의미\",\\n        \"도시의미\",\\n        \"도시의미\",\\n        \"도시의미\",\\n        \"도시의미\",\\n        \"도시의미\",\\n        \"도시의미\",\\n        \"도시의미\",\\n        \"도시의미\",\\n        \"도시의미\",\\n        \"도시의미\",\\n        \"도시의미\",\\n        \"도시의미\",\\n        \"도시의미\",\\n        \"도시의미\",\\n        \"도시의미\",\\n        \"도시의미\",\\n        \"도시의미\",\\n        \"도시의미\",\\n        \"도시의미\",\\n        \"도시의미\",\\n        \"도시의미\",\\n        \"도시의미\",\\n        \"도시의미\",\\n        \"도시의미\",\\n        \"도시의미\",\\n        \"도시의미\",\\n        \"도시의미\",\\n        \"도시의미\",\\n        \"도시의미\",\\n        \"도시의미\",\\n        \"도시의미\",\\n        \"도시의미\",\\n        \"도시의미\",\\n        \"도시의미\",\\n        \"도시의미\",\\n        \"도시의미\",\\n        \"도시의미\",\\n        \"도시의미\",\\n        \"도시의미\",\\n        \"도시의미\",\\n        \"도시의미\",\\n        \"도시의미\",\\n        \"도시의미\",\\n        \"도시의미\",\\n        \"도시의미\",\\n        \"도시의미\",\\n        \"도시의미\",\\n        \"도시의미\",\\n        \"도시의미\",\\n        \"도시의미\",\\n        \"도시의미\",\\n        \"도시의미\",\\n        \"도시의미\",\\n        \"도시의미\",\\n        \"도시의미\",\\n        \"도시의미\",\\n        \"도시의미\",\\n        \"도시의미\",\\n        \"도시의미\",\\n        \"도시의미\",\\n        \"도시의미\",\\n        \"도시의미\",\\n        \"도시의미\",\\n        \"도시의미\",\\n        \"도시의미\",\\n        \"도시의미\",\\n        \"도시의미\",\\n        \"도시의미\",\\n        \"도시의미\",\\n        \"도시의미\",\\n        \"도시의미\",\\n        \"도시의미\",\\n        \"도시의미\",\\n        \"도시의미\",\\n        \"도시의미\",\\n        \"도시의미\",\\n        \"도시의미\",\\n        \"도시의미\",\\n        \"도시의미\",\\n        \"도시의미\",\\n        \"도시의미\",\\n        \"도시의미\",\\n        \"도시의미\",\\n        \"도시의미\",\\n        \"도시의미\",\\n        \"도시의미\",\\n        \"도시의미\",\\n        \"도시의미\",\\n        \"도시의미\",\\n        \"도시의미\",\\n        \"도시의미\",\\n        \"도시의미\",\\n        \"도시의미\",\\n        \"도시의미\",\\n        \"도시의미\",\\n        \"도시의미\",\\n        \"도시의미\",\\n        \"도시의미\",\\n        \"도시의미\",\\n        \"도시의미\",\\n        \"도시의미\",\\n        \"도시의미\",\\n        \"도시의미\",\\n        \"도시의미\",\\n        \"도시의미\",\\n        \"도시의미\",\\n        \"도시의미\",\\n        \"도시의미\",\\n        \"도시의미\",\\n        \"도시의미\",\\n        \"도시의미\",\\n        \"도시의미\",\\n        \"도시의미\",\\n        \"도시의미\",\\n        \"도시의미\",\\n        \"도시의미\",\\n        \"도시의미\",\\n        \"도시의미\",\\n        \"도시의미\",\\n        \"도시의미\",\\n        \"도시의미\",\\n        \"도시의미\",\\n        \"도시의미\",\\n        \"도시의미\",\\n        \"도시의미\",\\n        \"도시의미\",\\n        \"도시의미\",\\n        \"도시의미\",\\n        \"도시의미\",\\n        \"도시의미\",\\n        \"도시의미\",\\n        \"도시의미\",\\n        \"도시의미\",\\n        \"도시의미\",\\n        \"도시의미\",\\n        \"도시의미\",\\n        \"도시의미\",\\n        \"도시의미\",\\n        \"도시의미\",\\n        \"도시의미\",\\n        \"도시의미\",\\n        \"도시의미\",\\n        \"도시의미\",\\n        \"도시의미\",\\n        \"도시의미\",\\n        \"도시의미\",\\n        \"도시의미\",\\n        \"도시의미\",\\n        \"도시의미\",\\n        \"도시의미\",\\n        \"도시의미\",\\n        \"도시의미\",\\n        \"도시의미\",\\n        \"도시의미\",\\n        \"도시의미\",\\n        \"도시의미\",\\n        \"도시의미\",\\n        \"도시의미\",\\n        \"도시의미\",\\n        \"도시의미\",\\n        \"도시의미\",\\n        \"도시의미\",\\n        \"도시의미\",\\n        \"도시의미\",\\n        \"도시의미\",\\n        \"도시의미\",\\n        \"도시의미\",\\n        \"도시의미\",\\n        \"도시의미\",\\n        \"도시의미\",\\n        \"도시의미\",\\n        \"도시의미\",\\n        \"도시의미\",\\n        \"도시의미\",\\n        \"도시의미\",\\n        \"도시의미\",\\n        \"도시의미\",\\n        \"도시의미\",\\n        \"도시의미\",\\n        \"도시의미\",\\n        \"도시의미\",\\n        \"도시의미\",\\n        \"도시의미\",\\n        \"도시의미\",\\n        \"도시의미\",\\n        \"도시의미\",\\n        \"도시의미\",\\n        \"도시의미\",\\n        \"도시의미\",\\n        \"도시의미\",\\n        \"도시의미\",\\n        \"도시의미\",\\n        \"도시의미\",\\n        \"도시의미\",\\n        \"도시의미\",\\n        \"도시의미\",\\n        \"도시의미\",\\n        \"도시의미\",\\n        \"도시의미\",\\n        \"도시의미\",\\n        \"도시의미\",\\n        \"도시의미\",\\n        \"도시의미\",\\n        \"도시의미\",\\n        \"도시의미\",\\n        \"도시의미\",\\n        \"도시의미\",\\n        \"도시의미\",\\n        \"도시의미\",\\n        \"도시의미\",\\n        \"도시의미\",\\n        \"도시의미\",\\n        \"도시의미\",\\n        \"도시의미\",\\n        \"도시의미\",\\n        \"도시의미\",\\n        \"도시의미\",\\n        \"도시의미\",\\n        \"도시의미\",\\n        \"도시의미\",\\n        \"도시의미\",\\n        \"도시의미\",\\n        \"도시의미\",\\n        \"도시의미\",\\n        \"도시의미\",\\n        \"도시의미\",\\n        \"도시의미\",\\n        \"도시의미\",\\n        \"도시의미\",\\n        \"도시의미\",\\n        \"도시의미\",\\n        \"도시의미\",\\n        \"도시의미\",\\n        \"도시의미\",\\n        \"도시의미\",\\n        \"도시의미\",\\n        \"도시의미\",\\n        \"도시의미\",\\n        \"도시의미\",\\n        \"도시의미\",\\n        \"도시의미\",\\n        \"도시의미\",\\n        \"도시의미\",\\n        \"도시의미\",\\n        \"도시의미\",\\n        \"도시의미\",\\n        \"도시의미\",\\n        \"도시의미\",\\n        \"도시의미\",\\n        \"도시의미\",\\n        \"도시의미\",\\n        \"도시의미\",\\n        \"도시의미\",\\n        \"도시의미\",\\n        \"도시의미\",\\n        \"도시의미\",\\n        \"도시의미\",\\n        \"도시의미\",\\n        \"도시의미\",\\n        \"도시의미\",\\n        \"도시의미\",\\n        \"도시의미\",\\n        \"도시의미\",\\n        \"도시의미\",\\n        \"도시의미\",\\n        \"도시의미\",\\n        \"도시의미\",\\n        \"도시의미\",\\n        \"도시의미\",\\n        \"도시의미\",\\n        \"도시의미\",\\n        \"도시의미\",\\n        \"도시의미\",\\n        \"도시의미\",\\n        \"도시의미\",\\n        \"도시의미\",\\n        \"도시의미\",\\n        \"도시의미\",\\n        \"도시의미\",\\n        \"도시의미\",\\n        \"도시의미\",\\n        \"도시의미\",\\n        \"도시의미\",\\n        \"도시의미\",\\n        \"도시의미\",\\n        \"도시의미\",\\n        \"도시의미\",\\n        \"도시의미\",\\n        \"도시의미\",\\n        \"도시의미\",\\n        \"도시의미\",\\n        \"도시의미\",\\n        \"도시의미\",\\n        \"도시의미\",\\n        \"도시의미\",\\n        \"도시의미\",\\n        \"도시의미\",\\n        \"도시의미\",\\n        \"도시의미\",\\n        \"도시의미\",\\n        \"도시의미\",\\n        \"도시의미\",\\n        \"도시의미\",\\n        \"도시의미\",\\n        \"도시의미\",\\n        \"도시의미\",\\n        \"도시의미\",\\n        \"도시의미\",\\n        \"도시의미\",\\n        \"도시의미\",\\n        \"도시의미\",\\n        \"도시의미\",\\n        \"도시의미\",\\n        \"도시의미\",\\n        \"도시의미\",\\n        \"도시의미\",\\n        \"도시의미\",\\n        \"도시의미\",\\n        \"도시의미\",\\n        \"도시의미\",\\n        \"도시의미\",\\n        \"도시의미\",\\n        \"도시의미\",\\n        \"도시의미\",\\n        \"도시의미\",\\n        \"도시의미\",\\n        \"도시의미\",\\n        \"도시의미\",\\n        \"도시의미\",\\n        \"도시의미\",\\n        \"도시의미\",\\n        \"도시의미\",\\n        \"도시의미\",\\n        \"도시의미\",\\n        \"도시의미\",\\n        \"도시의미\",\\n        \"도시의미\",\\n        \"도시의미\",\\n        \"도시의미\",\\n        \"도시의미\",\\n        \"도시의미\",\\n        \"도시의미\",\\n        \"도시의미\",\\n        \"도시의미\",\\n        \"도시의미\",\\n        \"도시의미\",\\n        \"도시의미\",\\n        \"도시의미\",\\n        \"도시의미\",\\n        \"도시의미\",\\n        \"도시의미\",\\n        \"도시의미\",\\n        \"도시의미\",\\n        \"도시의미\",\\n        \"도시의미\",\\n        \"도시의미\",\\n        \"도시의미\",\\n        \"도시의미\",\\n        \"도시의미\",\\n        \"도시의미\",\\n        \"도시의미\",\\n        \"도시의미\",\\n        \"도시의미\",\\n        \"도시의미\",\\n        \"도시의미\",\\n        \"도시의미\",\\n        \"도시의미\",\\n        \"도시의미\",\\n        \"도시의미\",\\n        \"도시의미\",\\n        \"도시의미\",\\n        \"도시의미\",\\n        \"도시의미\",\\n        \"도시의미\",\\n        \"도시의미\",\\n        \"도시의미\",\\n        \"도시의미\",\\n        \"도시의미\",\\n        \"도'"
      ]
     },
     "execution_count": 20,
     "metadata": {},
     "output_type": "execute_result"
    }
   ],
   "source": [
    "response2"
   ]
  },
  {
   "cell_type": "markdown",
   "metadata": {},
   "source": [
    "## Node 3. Make Schedule"
   ]
  },
  {
   "cell_type": "code",
   "execution_count": null,
   "metadata": {},
   "outputs": [],
   "source": [
    "prompt = ChatPromptTemplate.from_messages([\n",
    "        (\"system\", \"\"\"\n",
    "        Your task is to generate a travel itinerary based on the provided data and requirements.\n",
    "        ====\n",
    "        def generate_itinerary(data: dict, days: int) -> dict:\n",
    "            Generates a travel itinerary for 'n' days using the provided data. The itinerary should be returned in JSON format and follow these guidelines:\n",
    "            \n",
    "            - Each day's itinerary includes breakfast, lunch, and dinner (breakfast and lunch must be at restaurants, dinner can be at a restaurant or bar).\n",
    "            - Each day includes visits to 2 different tourist spots.\n",
    "            - A different hotel is assigned each night, with a maximum of 3 consecutive nights at the same hotel.\n",
    "            - The itinerary starts with a day at Busan Station (not included as a tourist spot) and ends with the last day at Busan Station (without a hotel).\n",
    "            - The itinerary should be slightly different each time it is generated, with random selections of restaurants, tourist spots, and hotels.\n",
    "            - The JSON should use the day number as the key and the itinerary for that day as the value.\n",
    "            - The last day should not include a hotel.\n",
    "            \n",
    "            Args:\n",
    "                data (dict): The data containing information on restaurants, tourist spots, and hotels.\n",
    "                days (int): The number of days for the itinerary.\n",
    "                \n",
    "            Returns:\n",
    "                dict: A JSON-formatted dictionary representing the travel itinerary.\n",
    "\n",
    "        # Example usage\n",
    "        itinerary = generate_itinerary(data, days)\n",
    "        return itinerary\n",
    "\n",
    "        ====\n",
    "        #Response format\n",
    "        generate_itinerary({data}, {days})\n",
    "        ====\n",
    "        \"\"\"),\n",
    "        (\"human\",\"{data}, {days}\")\n",
    "    ])\n",
    "chain = prompt | model\n",
    "result = chain.invoke({\"data\": response2, \"days\": response1[0]})\n",
    "result = result.content"
   ]
  },
  {
   "cell_type": "code",
   "execution_count": null,
   "metadata": {},
   "outputs": [],
   "source": [
    "result"
   ]
  },
  {
   "cell_type": "markdown",
   "metadata": {},
   "source": [
    "## Node 4. Validation"
   ]
  },
  {
   "cell_type": "code",
   "execution_count": null,
   "metadata": {},
   "outputs": [],
   "source": [
    "prompt = ChatPromptTemplate.from_messages([\n",
    "        (\"system\", \"\"\"\n",
    "        Your task is to classify the sentence into one of the following categories: [\"other\", \"again\", \"reset\", \"no\"]\n",
    "        ====\n",
    "        def classify(sentence: str) -> Literal[\"other\", \"again\", \"reset\", \"no\"]:\n",
    "            Classify the sentence into one of the following categories based on the user's intent:\n",
    "\n",
    "            - \"reset\": The user wants to start over or re-enter information. Examples include phrases like '처음부터 할래' or '다시 입력하게 해줘'.\n",
    "            - \"again\": The user wants to search again or is unsatisfied with the current result. Examples include phrases like '다시 찾아줘' or '여기 별로야'.\n",
    "            - \"no\": The user is satisfied or wants to move forward. Examples include phrases like '알겠어' or '좋아'.\n",
    "            - \"other\": The user's intent does not clearly fall into the above categories, or they request a different combination of the data.\n",
    "            \n",
    "            Args:\n",
    "                sentence (str): The sentence that needs to be classified.\n",
    "            \n",
    "            Returns:\n",
    "                Literal[\"other\", \"again\", \"reset\", \"no\"]: The classification of the sentence.\n",
    "        ====\n",
    "        # Get result\n",
    "        result = classify_sentence(sentence)\n",
    "        return result\n",
    "\n",
    "        ====\n",
    "        # Response format\n",
    "        classify(\"{human}\")\n",
    "        \"\"\"),\n",
    "    (\"human\", \"{human}\")\n",
    "    ])\n",
    "chain = prompt | model\n",
    "answering = chain.invoke({\"human\": input(\"어때요?\")})\n",
    "answering = answering.content"
   ]
  },
  {
   "cell_type": "code",
   "execution_count": null,
   "metadata": {},
   "outputs": [],
   "source": [
    "answering"
   ]
  },
  {
   "cell_type": "markdown",
   "metadata": {},
   "source": [
    "# Test Graph"
   ]
  },
  {
   "cell_type": "code",
   "execution_count": null,
   "metadata": {},
   "outputs": [],
   "source": [
    "from typing import TypedDict, Annotated, Dict, Optional, List\n",
    "import operator\n",
    "import json\n",
    "import ast\n",
    "import pandas as pd\n",
    "\n",
    "from langchain_core.prompts import ChatPromptTemplate, MessagesPlaceholder\n",
    "from langchain_openai import ChatOpenAI\n",
    "from langchain.schema.runnable import RunnablePassthrough, RunnableMap\n",
    "from langchain.memory import ConversationSummaryBufferMemory\n",
    "from IPython.display import Image, display\n",
    "from langgraph.graph import END, StateGraph\n",
    "from langgraph.checkpoint.memory import MemorySaver\n",
    "import pprint\n",
    "from langgraph.errors import GraphRecursionError\n",
    "from langchain_core.runnables import RunnableConfig"
   ]
  },
  {
   "cell_type": "code",
   "execution_count": null,
   "metadata": {},
   "outputs": [],
   "source": [
    "# 딕셔너리 병합 함수\n",
    "def merge_dicts(dict1, dict2):\n",
    "    merged = dict1.copy()  # dict1을 복사하여 새로운 딕셔너리를 생성\n",
    "    merged.update(dict2)   # dict2의 키와 값을 병합\n",
    "    return merged"
   ]
  },
  {
   "cell_type": "code",
   "execution_count": null,
   "metadata": {},
   "outputs": [],
   "source": [
    "# 첫 질문에 대한 클래스\n",
    "class LangState(TypedDict):\n",
    "    model: Optional[ChatOpenAI]\n",
    "    question: Annotated[str, operator.add]  # 사용자의 입력질문\n",
    "    keywords: Annotated[List[str], operator.add]# Annotated[Dict[str, str], merge_dicts]#operator.add]  # 입력질문으로 뽑아낸 키워드\n",
    "    hotel_context: Annotated[List[str], operator.add]  # 뽑힌 여행지들\n",
    "    foods_context: Annotated[List[str], operator.add]  # 뽑힌 여행지들\n",
    "    view_context: Annotated[List[str], operator.add]  # 뽑힌 여행지들\n",
    "    scheduler: Annotated[Dict[str, str], merge_dicts]  # 최종 여행지\n",
    "    sql_query: Annotated[str, operator.add]  # 키워드를 기반으로 db 조회하는 쿼리\n",
    "    second_sentence: Annotated[str, operator.add]  # 검증\n"
   ]
  },
  {
   "cell_type": "code",
   "execution_count": null,
   "metadata": {},
   "outputs": [],
   "source": [
    "# 실제로는 sql을 조회하게 될 함수\n",
    "def get_db():\n",
    "    food = pd.read_csv(\"./busan_data/spot_busan.csv\")\n",
    "    food = food['업체명']\n",
    "    return food"
   ]
  },
  {
   "cell_type": "code",
   "execution_count": null,
   "metadata": {},
   "outputs": [],
   "source": [
    "def make_keyword(state: LangState) -> LangState:\n",
    "    prompt = ChatPromptTemplate.from_messages([\n",
    "        (\"system\", \"\"\"\n",
    "        Your task is to classify the sentence as follows: \n",
    "        ====\n",
    "        def classify(sentence: str) -> ['days(Integer)', 'type(str)']:     \n",
    "            # Classify the sentence as how much days human want to go trip, how many people go trip, and what kind of trip human want from Args.\n",
    "            # If you can't classify then each values can replace [3, 3, 'vacation']\n",
    "            Args:       sentence(str): The sentence that is classified.     \n",
    "            Return:    ['days(Integer)', 'type(str)']: The classification of sentence.     \n",
    "        ====\n",
    "        # Get result     \n",
    "        result = classify_sentence(sentence)    \n",
    "        return result\n",
    "        ====\n",
    "        #Response format\n",
    "        classify(\"{question}\")\n",
    "        \"\"\"),\n",
    "        (\"human\", \"{question}\")\n",
    "    ])\n",
    "    chain = prompt | model\n",
    "    result = chain.invoke({\"question\": state['question']})\n",
    "    response = result.content\n",
    "    response = ast.literal_eval(response)\n",
    "\n",
    "    return LangState(keywords=response)\n",
    "\n",
    "def db_search(state: LangState) -> LangState:\n",
    "    db = get_db().to_json(orient=\"records\")  # DataFrame을 JSON 문자열로 변환\n",
    "    #db = get_db().to_json\n",
    "    prompt = ChatPromptTemplate.from_messages([\n",
    "            (\"system\", \"\"\"\n",
    "            Your task is to search the places as follows:\n",
    "            ====\n",
    "            def search(places: csv or MariaDB, user_input: list) -> ['attractions': places(str)(numbers = days * 2 * 3), 'restaurants': places(str)(numbers = days * 3 * 3), 'hotels': places(str)(numbers = days * 3)]:\n",
    "                # Search the places from database for days * 2 * k attractions, days * 3 * k restaurants, days * 1 * k hotels following the type.\n",
    "                # Based on the type, if the type is related to attractions, search attractions first and then find the rest of the places(attractions, hotels, restaurants) within a 5km radius considering latitude and longitude until the requested number is reached.\n",
    "                # If the type is related to restaurants or hotels, then please search for the related thing first like upper sentence.\n",
    "                # If the type is None or Thing that you can't understand, then just consider attractions and search the places.\n",
    "                Args:       places(csv file) and user_input(list): the places from database, and user_input is from state['keyword']\n",
    "                Return: ['attractions': places(str)(numbers = days * 2 * 3), 'restaurants': places(str)(numbers = days * 3 * 3), 'hotels': places(str)(numbers = days * 3)]: The Search Result\n",
    "            ====\n",
    "            # Get result\n",
    "            result = search_places({db}, {user})\n",
    "            return result\n",
    "            ====\n",
    "            #Response format\n",
    "            search(\"{db},{user}\")\n",
    "            \"\"\"),\n",
    "            (\"human\", \"{user}\")\n",
    "        ])\n",
    "    chain = prompt | model\n",
    "    result = chain.invoke({\"db\": db, \"user\": state[\"keywords\"]})\n",
    "    response = result.content\n",
    "    return LangState(context=response)\n",
    "\n",
    "def make_schedule(state: LangState) -> LangState:\n",
    "    prompt = ChatPromptTemplate.from_messages([\n",
    "        (\"system\", \"\"\"\n",
    "        Your task is to generate a travel itinerary based on the provided data and requirements.\n",
    "        ====\n",
    "        def generate_itinerary(data: dict, days: int) -> dict:\n",
    "            Generates a travel itinerary for 'n' days using the provided data. The itinerary should be returned in JSON format and follow these guidelines:\n",
    "            \n",
    "            - Each day's itinerary includes breakfast, lunch, and dinner (breakfast and lunch must be at restaurants, dinner can be at a restaurant or bar).\n",
    "            - Each day includes visits to 2 different tourist spots.\n",
    "            - A different hotel is assigned each night, with a maximum of 3 consecutive nights at the same hotel.\n",
    "            - The itinerary starts with a day at Busan Station (not included as a tourist spot) and ends with the last day at Busan Station (without a hotel).\n",
    "            - The itinerary should be slightly different each time it is generated, with random selections of restaurants, tourist spots, and hotels.\n",
    "            - The JSON should use the day number as the key and the itinerary for that day as the value.\n",
    "            - The last day should not include a hotel.\n",
    "            \n",
    "            Args:\n",
    "                data (dict): The data containing information on restaurants, tourist spots, and hotels.\n",
    "                days (int): The number of days for the itinerary.\n",
    "                \n",
    "            Returns:\n",
    "                dict: A JSON-formatted dictionary representing the travel itinerary.\n",
    "\n",
    "        # Example usage\n",
    "        itinerary = generate_itinerary(data, days)\n",
    "        return itinerary\n",
    "\n",
    "        ====\n",
    "        #Response format\n",
    "        generate_itinerary({data}, {days})\n",
    "        ====\n",
    "        \"\"\"),\n",
    "        (\"human\",\"{data}, {days}\")\n",
    "    ])\n",
    "    chain = prompt | model\n",
    "    result = chain.invoke({\"data\": state[\"context\"], \"days\": state[\"keywords\"][0]})\n",
    "    result = result.content\n",
    "    return LangState(scheduler=result)\n",
    "\n",
    "def validation(state: LangState) -> LangState:\n",
    "    prompt = ChatPromptTemplate.from_messages([\n",
    "        (\"system\", \"\"\"\n",
    "        Your task is to classify the sentence into one of the following categories: [\"other\", \"again\", \"reset\", \"no\"]\n",
    "        ====\n",
    "        def classify(sentence: str) -> Literal[\"other\", \"again\", \"reset\", \"no\"]:\n",
    "            Classify the sentence into one of the following categories based on the user's intent:\n",
    "\n",
    "            - \"reset\": The user wants to start over or re-enter information. Examples include phrases like '처음부터 할래' or '다시 입력하게 해줘'.\n",
    "            - \"again\": The user wants to search again or is unsatisfied with the current result. Examples include phrases like '다시 찾아줘' or '여기 별로야'.\n",
    "            - \"no\": The user is satisfied or wants to move forward. Examples include phrases like '알겠어' or '좋아'.\n",
    "            - \"other\": The user's intent does not clearly fall into the above categories, or they request a different combination of the data.\n",
    "            \n",
    "            Args:\n",
    "                sentence (str): The sentence that needs to be classified.\n",
    "            \n",
    "            Returns:\n",
    "                Literal[\"other\", \"again\", \"reset\", \"no\"]: The classification of the sentence.\n",
    "        ====\n",
    "        # Get result\n",
    "        result = classify_sentence(sentence)\n",
    "        return result\n",
    "\n",
    "        ====\n",
    "        # Response format\n",
    "        classify(\"{human}\")\n",
    "        \"\"\"),\n",
    "    (\"human\", \"{human}\")\n",
    "    ])\n",
    "    chain = prompt | model\n",
    "    answering = chain.invoke({\"human\": input(\"어때요?\")})\n",
    "    answering = answering.content\n",
    "    return LangState(second_sentence=answering)\n",
    "\n",
    "def is_do_again(state: LangState) -> LangState:\n",
    "    # 끝났는지 검사\n",
    "    sent = LangState['second_sentence']\n",
    "    if  sent == 'pass':\n",
    "        return 'no'\n",
    "    elif sent == 'go_first':\n",
    "        return 'reset'\n",
    "    elif sent == 'search_again':\n",
    "        return 'again'\n",
    "    elif sent == 'make_other':\n",
    "        return 'other'\n",
    "    return 'no'\n",
    "\n",
    "\n",
    "# get StateGraph & END from langgraph.graph\n",
    "workflow = StateGraph(LangState)\n",
    "\n",
    "# Add Nodes\n",
    "workflow.add_node('keywording', make_keyword)\n",
    "workflow.add_node('searching', db_search)\n",
    "workflow.add_node('scheduling', make_schedule)\n",
    "workflow.add_node('validating', validation)\n",
    "\n",
    "# Link Nodes\n",
    "workflow.add_edge('keywording', 'searching')\n",
    "workflow.add_edge('searching', 'scheduling')\n",
    "workflow.add_edge('scheduling', 'validating')\n",
    "\n",
    "# Add Conditional Edges\n",
    "workflow.add_conditional_edges(\n",
    "    \"validating\",\n",
    "    is_do_again,\n",
    "    {\n",
    "        'no' : END,\n",
    "        'reset': 'keywording',\n",
    "        'again': 'searching',\n",
    "        'other': 'scheduling'\n",
    "    },\n",
    ")\n",
    "\n",
    "# Set Start Point\n",
    "workflow.set_entry_point(\"keywording\")\n",
    "\n",
    "# Set Memory for Log\n",
    "memory = MemorySaver()\n",
    "\n",
    "# Compile Graph\n",
    "app = workflow.compile(checkpointer=memory)\n",
    "\n",
    "config = RunnableConfig(\n",
    "    recursion_limit=12, configurable={\"thread_id\": \"CORRECTIVE-SEARCH-RAG\"}\n",
    ")"
   ]
  },
  {
   "cell_type": "code",
   "execution_count": null,
   "metadata": {},
   "outputs": [],
   "source": [
    "try:\n",
    "    display(\n",
    "        Image(app.get_graph(xray = True).draw_mermaid_png())\n",
    "    ) # 실행 가능한 객체 그래프를 mermaid 형식의 PNG로 그려줌\n",
    "    # xray = True -> 추가 세부 정보 포함\n",
    "except:\n",
    "    # 이 부분은 추가적인 의존성 필요, 선택적 실행\n",
    "    pass"
   ]
  },
  {
   "cell_type": "code",
   "execution_count": null,
   "metadata": {},
   "outputs": [],
   "source": [
    "api_key = 'sk-_QhnbyR5USlFg_jiqyDQPFv1PSsYsZhnh_CC6aRqsMT3BlbkFJ60XrmvdXqfLPC00eWX0iQU1tI4qgfLtm3ENrKMVCsA'\n",
    "# model = ChatOpenAI(api_key=api_key, temperature=0.1, model=\"gpt-3.5-turbo\")\n",
    "model = ChatOpenAI(api_key=api_key, temperature=0.1, model=\"gpt-4o-mini\")"
   ]
  },
  {
   "cell_type": "code",
   "execution_count": null,
   "metadata": {},
   "outputs": [],
   "source": [
    "def running(input, LangState, model):\n",
    "    inputs = LangState(question=input, model=model)\n",
    "    # app.stream을 통해 입력된 메시지에 대한 출력을 스트리밍합니다.\n",
    "    try:\n",
    "        for output in app.stream(inputs, config=config):\n",
    "            # 출력된 결과에서 키와 값을 순회합니다.\n",
    "            for key, value in output.items():\n",
    "                # 노드의 이름과 해당 노드에서 나온 출력을 출력합니다.\n",
    "                pprint.pprint(f\"Output from node '{key}':\")\n",
    "                pprint.pprint(\"---\")\n",
    "                # 출력 값을 예쁘게 출력합니다.\n",
    "                pprint.pprint(value, indent=2, width=80, depth=None)\n",
    "            # 각 출력 사이에 구분선을 추가합니다.\n",
    "            pprint.pprint(\"\\n---\\n\")\n",
    "    except GraphRecursionError as e:\n",
    "        pprint.pprint(f\"Recursion limit reached: {e}\")"
   ]
  },
  {
   "cell_type": "code",
   "execution_count": null,
   "metadata": {},
   "outputs": [],
   "source": [
    "lg = LangState\n",
    "m = model"
   ]
  },
  {
   "cell_type": "code",
   "execution_count": null,
   "metadata": {},
   "outputs": [],
   "source": [
    "#i = input(\"어떤 여행을 계획하시나요? \")\n",
    "i = \"안녕 나는 친구들이랑 부산 일주일 여행을 갈거야. 바다보고싶어\"\n",
    "# running(i, lg, m)"
   ]
  },
  {
   "cell_type": "code",
   "execution_count": null,
   "metadata": {},
   "outputs": [],
   "source": [
    "running(i, lg, m)"
   ]
  },
  {
   "cell_type": "code",
   "execution_count": null,
   "metadata": {},
   "outputs": [],
   "source": []
  }
 ],
 "metadata": {
  "kernelspec": {
   "display_name": "nerd",
   "language": "python",
   "name": "python3"
  },
  "language_info": {
   "codemirror_mode": {
    "name": "ipython",
    "version": 3
   },
   "file_extension": ".py",
   "mimetype": "text/x-python",
   "name": "python",
   "nbconvert_exporter": "python",
   "pygments_lexer": "ipython3",
   "version": "3.10.14"
  }
 },
 "nbformat": 4,
 "nbformat_minor": 2
}
